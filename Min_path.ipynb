{
 "cells": [
  {
   "cell_type": "markdown",
   "metadata": {},
   "source": [
    "Given a (M x N) grid filled with non-negative numbers.\n",
    "Find a path from any co-ordinate in the grid to bottom right which minimizes the sum of all numbers along its path. You can chose any method to find the minimum sum of the path.\n",
    "Note: You can only move right to bottom of the grid.\n",
    "\n",
    "Grid:\n",
    "```\n",
    "[\n",
    "\t[0, 2, 5],\n",
    "\t[3, 1, 5],\n",
    "\t[0, 2, 5],\n",
    "\t[2, 1, 3]\n",
    "]\n",
    "```\n",
    "\n",
    "Sum = 0+2+1+2+1+3 = 9\n"
   ]
  },
  {
   "cell_type": "code",
   "execution_count": 60,
   "metadata": {},
   "outputs": [],
   "source": [
    "import numpy as np\n",
    "\n",
    "def find_min_cost(array, ii, jj):\n",
    "    \"\"\"\n",
    "    \n",
    "    :param array: (list) of (list) of (int).  An array of costs associated with each array position\n",
    "    :param ii: (int) current row index\n",
    "    :param jj: (int) current col index\n",
    "    :return: (int) sum of the costs of the path with the minimum sum \n",
    "    \"\"\"\n",
    "    array = np.array(array)\n",
    "    current_value = array[ii, jj]\n",
    "    \n",
    "    # Determine edges\n",
    "    max_ii = array.shape[0] - 1\n",
    "    max_jj = array.shape[1] - 1\n",
    "    \n",
    "    # Bottom right corner\n",
    "    if jj==max_jj and ii==max_ii:\n",
    "        return current_value\n",
    "    \n",
    "    # Bottom edge, can only go right\n",
    "    elif ii==max_ii:\n",
    "        return current_value + find_min_cost(array[ii:, (jj+1):], 0, 0)\n",
    "    \n",
    "    # Right edge, can only go down\n",
    "    elif jj==max_jj:\n",
    "        return current_value + find_min_cost(array[(ii+1):, jj:], 0, 0)\n",
    "    \n",
    "    # Not touching any edges, look down and right and take the better path\n",
    "    else:\n",
    "        return current_value + min(find_min_cost(array[(ii+1):, jj:], 0, 0), \n",
    "                                   find_min_cost(array[ii:, (jj+1):], 0, 0))"
   ]
  },
  {
   "cell_type": "code",
   "execution_count": 61,
   "metadata": {},
   "outputs": [],
   "source": [
    "arr = [\n",
    "    [0, 2, 5],\n",
    "    [3, 1, 5],\n",
    "    [0, 2, 5],\n",
    "    [2, 1, 3]\n",
    "]"
   ]
  },
  {
   "cell_type": "code",
   "execution_count": 68,
   "metadata": {},
   "outputs": [
    {
     "data": {
      "text/plain": [
       "9"
      ]
     },
     "execution_count": 68,
     "metadata": {},
     "output_type": "execute_result"
    }
   ],
   "source": [
    "# Start from top left corner\n",
    "find_min_cost(arr, 0, 0)"
   ]
  },
  {
   "cell_type": "code",
   "execution_count": 69,
   "metadata": {
    "scrolled": true
   },
   "outputs": [
    {
     "data": {
      "text/plain": [
       "18"
      ]
     },
     "execution_count": 69,
     "metadata": {},
     "output_type": "execute_result"
    }
   ],
   "source": [
    "# Start from to right corner (can only go down)\n",
    "find_min_cost(arr, 0, 2)"
   ]
  },
  {
   "cell_type": "code",
   "execution_count": 73,
   "metadata": {},
   "outputs": [
    {
     "data": {
      "text/plain": [
       "6"
      ]
     },
     "execution_count": 73,
     "metadata": {},
     "output_type": "execute_result"
    }
   ],
   "source": [
    "# Start from bottom left corner (can only go right)\n",
    "find_min_cost(arr, 3, 0)"
   ]
  },
  {
   "cell_type": "code",
   "execution_count": 71,
   "metadata": {},
   "outputs": [
    {
     "data": {
      "text/plain": [
       "3"
      ]
     },
     "execution_count": 71,
     "metadata": {},
     "output_type": "execute_result"
    }
   ],
   "source": [
    "# Start in the bottom right corner (done)\n",
    "find_min_cost(arr, 3, 2)"
   ]
  },
  {
   "cell_type": "code",
   "execution_count": 72,
   "metadata": {},
   "outputs": [
    {
     "data": {
      "text/plain": [
       "7"
      ]
     },
     "execution_count": 72,
     "metadata": {},
     "output_type": "execute_result"
    }
   ],
   "source": [
    "# Start away from any edge\n",
    "find_min_cost(arr, 1, 1)"
   ]
  },
  {
   "cell_type": "code",
   "execution_count": null,
   "metadata": {},
   "outputs": [],
   "source": []
  }
 ],
 "metadata": {
  "kernelspec": {
   "display_name": "Python 3",
   "language": "python",
   "name": "python3"
  },
  "language_info": {
   "codemirror_mode": {
    "name": "ipython",
    "version": 3
   },
   "file_extension": ".py",
   "mimetype": "text/x-python",
   "name": "python",
   "nbconvert_exporter": "python",
   "pygments_lexer": "ipython3",
   "version": "3.6.1"
  }
 },
 "nbformat": 4,
 "nbformat_minor": 2
}
